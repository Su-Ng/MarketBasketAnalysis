{
  "nbformat": 4,
  "nbformat_minor": 0,
  "metadata": {
    "colab": {
      "provenance": [],
      "authorship_tag": "ABX9TyOHUybv+YOgbqlZg9CDWOvB",
      "include_colab_link": true
    },
    "kernelspec": {
      "name": "python3",
      "display_name": "Python 3"
    },
    "language_info": {
      "name": "python"
    }
  },
  "cells": [
    {
      "cell_type": "markdown",
      "metadata": {
        "id": "view-in-github",
        "colab_type": "text"
      },
      "source": [
        "<a href=\"https://colab.research.google.com/github/Su-Ng/MarketBasketAnalysis/blob/main/MarketBasketAnalysis.ipynb\" target=\"_parent\"><img src=\"https://colab.research.google.com/assets/colab-badge.svg\" alt=\"Open In Colab\"/></a>"
      ]
    },
    {
      "cell_type": "markdown",
      "source": [
        "Sample data used to conduct market basket analysis"
      ],
      "metadata": {
        "id": "hro7kDVR7Ea0"
      }
    },
    {
      "cell_type": "code",
      "execution_count": null,
      "metadata": {
        "id": "0oWM-pqzCYWS"
      },
      "outputs": [],
      "source": [
        "transactions=[\n",
        "['curd','sour cream'],['curd','orange','sour cream'],\n",
        "['bread','cheese','butter'],['bread','butter'],['bread','milk'],\n",
        "['apple','orange','pear'],['bread','milk','eggs'],['tea','lemon'],\n",
        "['curd','sour cream','apple'],['eggs','wheat flour','milk'],\n",
        "['pasta','cheese'],['bread','cheese'],['pasta','olive','cheese'],\n",
        "['curd','jam'],['bread','cheese','butter'], \n",
        "['bread','sour cream','butter'],['strawberry','sour cream'],\n",
        "['curd','sour cream'],['bread','coffee'],['onion','garlic']\n",
        "]"
      ]
    },
    {
      "cell_type": "markdown",
      "source": [],
      "metadata": {
        "id": "b5xlX7vXCaOZ"
      }
    },
    {
      "cell_type": "code",
      "source": [
        "import pandas as pd\n",
        "from mlxtend.preprocessing import TransactionEncoder"
      ],
      "metadata": {
        "id": "kCkhRqj3CagI"
      },
      "execution_count": null,
      "outputs": []
    },
    {
      "cell_type": "code",
      "source": [
        "encoder=TransactionEncoder()"
      ],
      "metadata": {
        "id": "ND2YHOFKCkMD"
      },
      "execution_count": null,
      "outputs": []
    },
    {
      "cell_type": "code",
      "source": [
        "encoded_array=encoder.fit(transactions).transform(transactions)"
      ],
      "metadata": {
        "id": "0v30cHDoIuGd"
      },
      "execution_count": null,
      "outputs": []
    },
    {
      "cell_type": "code",
      "source": [
        "df_itemsets=pd.DataFrame(encoded_array, columns=encoder.columns_)"
      ],
      "metadata": {
        "id": "gt0rVG9BI87-"
      },
      "execution_count": null,
      "outputs": []
    },
    {
      "cell_type": "code",
      "source": [
        "df_itemsets"
      ],
      "metadata": {
        "colab": {
          "base_uri": "https://localhost:8080/",
          "height": 738
        },
        "id": "GDBQLjvdJZAC",
        "outputId": "5d0fe391-9a34-45df-f31d-58c7bdf01f84"
      },
      "execution_count": null,
      "outputs": [
        {
          "output_type": "execute_result",
          "data": {
            "text/plain": [
              "    apple  bread  butter  cheese  coffee   curd   eggs  garlic    jam  lemon  \\\n",
              "0   False  False   False   False   False   True  False   False  False  False   \n",
              "1   False  False   False   False   False   True  False   False  False  False   \n",
              "2   False   True    True    True   False  False  False   False  False  False   \n",
              "3   False   True    True   False   False  False  False   False  False  False   \n",
              "4   False   True   False   False   False  False  False   False  False  False   \n",
              "5    True  False   False   False   False  False  False   False  False  False   \n",
              "6   False   True   False   False   False  False   True   False  False  False   \n",
              "7   False  False   False   False   False  False  False   False  False   True   \n",
              "8    True  False   False   False   False   True  False   False  False  False   \n",
              "9   False  False   False   False   False  False   True   False  False  False   \n",
              "10  False  False   False    True   False  False  False   False  False  False   \n",
              "11  False   True   False    True   False  False  False   False  False  False   \n",
              "12  False  False   False    True   False  False  False   False  False  False   \n",
              "13  False  False   False   False   False   True  False   False   True  False   \n",
              "14  False   True    True    True   False  False  False   False  False  False   \n",
              "15  False   True    True   False   False  False  False   False  False  False   \n",
              "16  False  False   False   False   False  False  False   False  False  False   \n",
              "17  False  False   False   False   False   True  False   False  False  False   \n",
              "18  False   True   False   False    True  False  False   False  False  False   \n",
              "19  False  False   False   False   False  False  False    True  False  False   \n",
              "\n",
              "     milk  olive  onion  orange  pasta   pear  sour cream  strawberry    tea  \\\n",
              "0   False  False  False   False  False  False        True       False  False   \n",
              "1   False  False  False    True  False  False        True       False  False   \n",
              "2   False  False  False   False  False  False       False       False  False   \n",
              "3   False  False  False   False  False  False       False       False  False   \n",
              "4    True  False  False   False  False  False       False       False  False   \n",
              "5   False  False  False    True  False   True       False       False  False   \n",
              "6    True  False  False   False  False  False       False       False  False   \n",
              "7   False  False  False   False  False  False       False       False   True   \n",
              "8   False  False  False   False  False  False        True       False  False   \n",
              "9    True  False  False   False  False  False       False       False  False   \n",
              "10  False  False  False   False   True  False       False       False  False   \n",
              "11  False  False  False   False  False  False       False       False  False   \n",
              "12  False   True  False   False   True  False       False       False  False   \n",
              "13  False  False  False   False  False  False       False       False  False   \n",
              "14  False  False  False   False  False  False       False       False  False   \n",
              "15  False  False  False   False  False  False        True       False  False   \n",
              "16  False  False  False   False  False  False        True        True  False   \n",
              "17  False  False  False   False  False  False        True       False  False   \n",
              "18  False  False  False   False  False  False       False       False  False   \n",
              "19  False  False   True   False  False  False       False       False  False   \n",
              "\n",
              "    wheat flour  \n",
              "0         False  \n",
              "1         False  \n",
              "2         False  \n",
              "3         False  \n",
              "4         False  \n",
              "5         False  \n",
              "6         False  \n",
              "7         False  \n",
              "8         False  \n",
              "9          True  \n",
              "10        False  \n",
              "11        False  \n",
              "12        False  \n",
              "13        False  \n",
              "14        False  \n",
              "15        False  \n",
              "16        False  \n",
              "17        False  \n",
              "18        False  \n",
              "19        False  "
            ],
            "text/html": [
              "\n",
              "  <div id=\"df-2f31f88d-da25-445b-96c4-75b9fad48625\">\n",
              "    <div class=\"colab-df-container\">\n",
              "      <div>\n",
              "<style scoped>\n",
              "    .dataframe tbody tr th:only-of-type {\n",
              "        vertical-align: middle;\n",
              "    }\n",
              "\n",
              "    .dataframe tbody tr th {\n",
              "        vertical-align: top;\n",
              "    }\n",
              "\n",
              "    .dataframe thead th {\n",
              "        text-align: right;\n",
              "    }\n",
              "</style>\n",
              "<table border=\"1\" class=\"dataframe\">\n",
              "  <thead>\n",
              "    <tr style=\"text-align: right;\">\n",
              "      <th></th>\n",
              "      <th>apple</th>\n",
              "      <th>bread</th>\n",
              "      <th>butter</th>\n",
              "      <th>cheese</th>\n",
              "      <th>coffee</th>\n",
              "      <th>curd</th>\n",
              "      <th>eggs</th>\n",
              "      <th>garlic</th>\n",
              "      <th>jam</th>\n",
              "      <th>lemon</th>\n",
              "      <th>milk</th>\n",
              "      <th>olive</th>\n",
              "      <th>onion</th>\n",
              "      <th>orange</th>\n",
              "      <th>pasta</th>\n",
              "      <th>pear</th>\n",
              "      <th>sour cream</th>\n",
              "      <th>strawberry</th>\n",
              "      <th>tea</th>\n",
              "      <th>wheat flour</th>\n",
              "    </tr>\n",
              "  </thead>\n",
              "  <tbody>\n",
              "    <tr>\n",
              "      <th>0</th>\n",
              "      <td>False</td>\n",
              "      <td>False</td>\n",
              "      <td>False</td>\n",
              "      <td>False</td>\n",
              "      <td>False</td>\n",
              "      <td>True</td>\n",
              "      <td>False</td>\n",
              "      <td>False</td>\n",
              "      <td>False</td>\n",
              "      <td>False</td>\n",
              "      <td>False</td>\n",
              "      <td>False</td>\n",
              "      <td>False</td>\n",
              "      <td>False</td>\n",
              "      <td>False</td>\n",
              "      <td>False</td>\n",
              "      <td>True</td>\n",
              "      <td>False</td>\n",
              "      <td>False</td>\n",
              "      <td>False</td>\n",
              "    </tr>\n",
              "    <tr>\n",
              "      <th>1</th>\n",
              "      <td>False</td>\n",
              "      <td>False</td>\n",
              "      <td>False</td>\n",
              "      <td>False</td>\n",
              "      <td>False</td>\n",
              "      <td>True</td>\n",
              "      <td>False</td>\n",
              "      <td>False</td>\n",
              "      <td>False</td>\n",
              "      <td>False</td>\n",
              "      <td>False</td>\n",
              "      <td>False</td>\n",
              "      <td>False</td>\n",
              "      <td>True</td>\n",
              "      <td>False</td>\n",
              "      <td>False</td>\n",
              "      <td>True</td>\n",
              "      <td>False</td>\n",
              "      <td>False</td>\n",
              "      <td>False</td>\n",
              "    </tr>\n",
              "    <tr>\n",
              "      <th>2</th>\n",
              "      <td>False</td>\n",
              "      <td>True</td>\n",
              "      <td>True</td>\n",
              "      <td>True</td>\n",
              "      <td>False</td>\n",
              "      <td>False</td>\n",
              "      <td>False</td>\n",
              "      <td>False</td>\n",
              "      <td>False</td>\n",
              "      <td>False</td>\n",
              "      <td>False</td>\n",
              "      <td>False</td>\n",
              "      <td>False</td>\n",
              "      <td>False</td>\n",
              "      <td>False</td>\n",
              "      <td>False</td>\n",
              "      <td>False</td>\n",
              "      <td>False</td>\n",
              "      <td>False</td>\n",
              "      <td>False</td>\n",
              "    </tr>\n",
              "    <tr>\n",
              "      <th>3</th>\n",
              "      <td>False</td>\n",
              "      <td>True</td>\n",
              "      <td>True</td>\n",
              "      <td>False</td>\n",
              "      <td>False</td>\n",
              "      <td>False</td>\n",
              "      <td>False</td>\n",
              "      <td>False</td>\n",
              "      <td>False</td>\n",
              "      <td>False</td>\n",
              "      <td>False</td>\n",
              "      <td>False</td>\n",
              "      <td>False</td>\n",
              "      <td>False</td>\n",
              "      <td>False</td>\n",
              "      <td>False</td>\n",
              "      <td>False</td>\n",
              "      <td>False</td>\n",
              "      <td>False</td>\n",
              "      <td>False</td>\n",
              "    </tr>\n",
              "    <tr>\n",
              "      <th>4</th>\n",
              "      <td>False</td>\n",
              "      <td>True</td>\n",
              "      <td>False</td>\n",
              "      <td>False</td>\n",
              "      <td>False</td>\n",
              "      <td>False</td>\n",
              "      <td>False</td>\n",
              "      <td>False</td>\n",
              "      <td>False</td>\n",
              "      <td>False</td>\n",
              "      <td>True</td>\n",
              "      <td>False</td>\n",
              "      <td>False</td>\n",
              "      <td>False</td>\n",
              "      <td>False</td>\n",
              "      <td>False</td>\n",
              "      <td>False</td>\n",
              "      <td>False</td>\n",
              "      <td>False</td>\n",
              "      <td>False</td>\n",
              "    </tr>\n",
              "    <tr>\n",
              "      <th>5</th>\n",
              "      <td>True</td>\n",
              "      <td>False</td>\n",
              "      <td>False</td>\n",
              "      <td>False</td>\n",
              "      <td>False</td>\n",
              "      <td>False</td>\n",
              "      <td>False</td>\n",
              "      <td>False</td>\n",
              "      <td>False</td>\n",
              "      <td>False</td>\n",
              "      <td>False</td>\n",
              "      <td>False</td>\n",
              "      <td>False</td>\n",
              "      <td>True</td>\n",
              "      <td>False</td>\n",
              "      <td>True</td>\n",
              "      <td>False</td>\n",
              "      <td>False</td>\n",
              "      <td>False</td>\n",
              "      <td>False</td>\n",
              "    </tr>\n",
              "    <tr>\n",
              "      <th>6</th>\n",
              "      <td>False</td>\n",
              "      <td>True</td>\n",
              "      <td>False</td>\n",
              "      <td>False</td>\n",
              "      <td>False</td>\n",
              "      <td>False</td>\n",
              "      <td>True</td>\n",
              "      <td>False</td>\n",
              "      <td>False</td>\n",
              "      <td>False</td>\n",
              "      <td>True</td>\n",
              "      <td>False</td>\n",
              "      <td>False</td>\n",
              "      <td>False</td>\n",
              "      <td>False</td>\n",
              "      <td>False</td>\n",
              "      <td>False</td>\n",
              "      <td>False</td>\n",
              "      <td>False</td>\n",
              "      <td>False</td>\n",
              "    </tr>\n",
              "    <tr>\n",
              "      <th>7</th>\n",
              "      <td>False</td>\n",
              "      <td>False</td>\n",
              "      <td>False</td>\n",
              "      <td>False</td>\n",
              "      <td>False</td>\n",
              "      <td>False</td>\n",
              "      <td>False</td>\n",
              "      <td>False</td>\n",
              "      <td>False</td>\n",
              "      <td>True</td>\n",
              "      <td>False</td>\n",
              "      <td>False</td>\n",
              "      <td>False</td>\n",
              "      <td>False</td>\n",
              "      <td>False</td>\n",
              "      <td>False</td>\n",
              "      <td>False</td>\n",
              "      <td>False</td>\n",
              "      <td>True</td>\n",
              "      <td>False</td>\n",
              "    </tr>\n",
              "    <tr>\n",
              "      <th>8</th>\n",
              "      <td>True</td>\n",
              "      <td>False</td>\n",
              "      <td>False</td>\n",
              "      <td>False</td>\n",
              "      <td>False</td>\n",
              "      <td>True</td>\n",
              "      <td>False</td>\n",
              "      <td>False</td>\n",
              "      <td>False</td>\n",
              "      <td>False</td>\n",
              "      <td>False</td>\n",
              "      <td>False</td>\n",
              "      <td>False</td>\n",
              "      <td>False</td>\n",
              "      <td>False</td>\n",
              "      <td>False</td>\n",
              "      <td>True</td>\n",
              "      <td>False</td>\n",
              "      <td>False</td>\n",
              "      <td>False</td>\n",
              "    </tr>\n",
              "    <tr>\n",
              "      <th>9</th>\n",
              "      <td>False</td>\n",
              "      <td>False</td>\n",
              "      <td>False</td>\n",
              "      <td>False</td>\n",
              "      <td>False</td>\n",
              "      <td>False</td>\n",
              "      <td>True</td>\n",
              "      <td>False</td>\n",
              "      <td>False</td>\n",
              "      <td>False</td>\n",
              "      <td>True</td>\n",
              "      <td>False</td>\n",
              "      <td>False</td>\n",
              "      <td>False</td>\n",
              "      <td>False</td>\n",
              "      <td>False</td>\n",
              "      <td>False</td>\n",
              "      <td>False</td>\n",
              "      <td>False</td>\n",
              "      <td>True</td>\n",
              "    </tr>\n",
              "    <tr>\n",
              "      <th>10</th>\n",
              "      <td>False</td>\n",
              "      <td>False</td>\n",
              "      <td>False</td>\n",
              "      <td>True</td>\n",
              "      <td>False</td>\n",
              "      <td>False</td>\n",
              "      <td>False</td>\n",
              "      <td>False</td>\n",
              "      <td>False</td>\n",
              "      <td>False</td>\n",
              "      <td>False</td>\n",
              "      <td>False</td>\n",
              "      <td>False</td>\n",
              "      <td>False</td>\n",
              "      <td>True</td>\n",
              "      <td>False</td>\n",
              "      <td>False</td>\n",
              "      <td>False</td>\n",
              "      <td>False</td>\n",
              "      <td>False</td>\n",
              "    </tr>\n",
              "    <tr>\n",
              "      <th>11</th>\n",
              "      <td>False</td>\n",
              "      <td>True</td>\n",
              "      <td>False</td>\n",
              "      <td>True</td>\n",
              "      <td>False</td>\n",
              "      <td>False</td>\n",
              "      <td>False</td>\n",
              "      <td>False</td>\n",
              "      <td>False</td>\n",
              "      <td>False</td>\n",
              "      <td>False</td>\n",
              "      <td>False</td>\n",
              "      <td>False</td>\n",
              "      <td>False</td>\n",
              "      <td>False</td>\n",
              "      <td>False</td>\n",
              "      <td>False</td>\n",
              "      <td>False</td>\n",
              "      <td>False</td>\n",
              "      <td>False</td>\n",
              "    </tr>\n",
              "    <tr>\n",
              "      <th>12</th>\n",
              "      <td>False</td>\n",
              "      <td>False</td>\n",
              "      <td>False</td>\n",
              "      <td>True</td>\n",
              "      <td>False</td>\n",
              "      <td>False</td>\n",
              "      <td>False</td>\n",
              "      <td>False</td>\n",
              "      <td>False</td>\n",
              "      <td>False</td>\n",
              "      <td>False</td>\n",
              "      <td>True</td>\n",
              "      <td>False</td>\n",
              "      <td>False</td>\n",
              "      <td>True</td>\n",
              "      <td>False</td>\n",
              "      <td>False</td>\n",
              "      <td>False</td>\n",
              "      <td>False</td>\n",
              "      <td>False</td>\n",
              "    </tr>\n",
              "    <tr>\n",
              "      <th>13</th>\n",
              "      <td>False</td>\n",
              "      <td>False</td>\n",
              "      <td>False</td>\n",
              "      <td>False</td>\n",
              "      <td>False</td>\n",
              "      <td>True</td>\n",
              "      <td>False</td>\n",
              "      <td>False</td>\n",
              "      <td>True</td>\n",
              "      <td>False</td>\n",
              "      <td>False</td>\n",
              "      <td>False</td>\n",
              "      <td>False</td>\n",
              "      <td>False</td>\n",
              "      <td>False</td>\n",
              "      <td>False</td>\n",
              "      <td>False</td>\n",
              "      <td>False</td>\n",
              "      <td>False</td>\n",
              "      <td>False</td>\n",
              "    </tr>\n",
              "    <tr>\n",
              "      <th>14</th>\n",
              "      <td>False</td>\n",
              "      <td>True</td>\n",
              "      <td>True</td>\n",
              "      <td>True</td>\n",
              "      <td>False</td>\n",
              "      <td>False</td>\n",
              "      <td>False</td>\n",
              "      <td>False</td>\n",
              "      <td>False</td>\n",
              "      <td>False</td>\n",
              "      <td>False</td>\n",
              "      <td>False</td>\n",
              "      <td>False</td>\n",
              "      <td>False</td>\n",
              "      <td>False</td>\n",
              "      <td>False</td>\n",
              "      <td>False</td>\n",
              "      <td>False</td>\n",
              "      <td>False</td>\n",
              "      <td>False</td>\n",
              "    </tr>\n",
              "    <tr>\n",
              "      <th>15</th>\n",
              "      <td>False</td>\n",
              "      <td>True</td>\n",
              "      <td>True</td>\n",
              "      <td>False</td>\n",
              "      <td>False</td>\n",
              "      <td>False</td>\n",
              "      <td>False</td>\n",
              "      <td>False</td>\n",
              "      <td>False</td>\n",
              "      <td>False</td>\n",
              "      <td>False</td>\n",
              "      <td>False</td>\n",
              "      <td>False</td>\n",
              "      <td>False</td>\n",
              "      <td>False</td>\n",
              "      <td>False</td>\n",
              "      <td>True</td>\n",
              "      <td>False</td>\n",
              "      <td>False</td>\n",
              "      <td>False</td>\n",
              "    </tr>\n",
              "    <tr>\n",
              "      <th>16</th>\n",
              "      <td>False</td>\n",
              "      <td>False</td>\n",
              "      <td>False</td>\n",
              "      <td>False</td>\n",
              "      <td>False</td>\n",
              "      <td>False</td>\n",
              "      <td>False</td>\n",
              "      <td>False</td>\n",
              "      <td>False</td>\n",
              "      <td>False</td>\n",
              "      <td>False</td>\n",
              "      <td>False</td>\n",
              "      <td>False</td>\n",
              "      <td>False</td>\n",
              "      <td>False</td>\n",
              "      <td>False</td>\n",
              "      <td>True</td>\n",
              "      <td>True</td>\n",
              "      <td>False</td>\n",
              "      <td>False</td>\n",
              "    </tr>\n",
              "    <tr>\n",
              "      <th>17</th>\n",
              "      <td>False</td>\n",
              "      <td>False</td>\n",
              "      <td>False</td>\n",
              "      <td>False</td>\n",
              "      <td>False</td>\n",
              "      <td>True</td>\n",
              "      <td>False</td>\n",
              "      <td>False</td>\n",
              "      <td>False</td>\n",
              "      <td>False</td>\n",
              "      <td>False</td>\n",
              "      <td>False</td>\n",
              "      <td>False</td>\n",
              "      <td>False</td>\n",
              "      <td>False</td>\n",
              "      <td>False</td>\n",
              "      <td>True</td>\n",
              "      <td>False</td>\n",
              "      <td>False</td>\n",
              "      <td>False</td>\n",
              "    </tr>\n",
              "    <tr>\n",
              "      <th>18</th>\n",
              "      <td>False</td>\n",
              "      <td>True</td>\n",
              "      <td>False</td>\n",
              "      <td>False</td>\n",
              "      <td>True</td>\n",
              "      <td>False</td>\n",
              "      <td>False</td>\n",
              "      <td>False</td>\n",
              "      <td>False</td>\n",
              "      <td>False</td>\n",
              "      <td>False</td>\n",
              "      <td>False</td>\n",
              "      <td>False</td>\n",
              "      <td>False</td>\n",
              "      <td>False</td>\n",
              "      <td>False</td>\n",
              "      <td>False</td>\n",
              "      <td>False</td>\n",
              "      <td>False</td>\n",
              "      <td>False</td>\n",
              "    </tr>\n",
              "    <tr>\n",
              "      <th>19</th>\n",
              "      <td>False</td>\n",
              "      <td>False</td>\n",
              "      <td>False</td>\n",
              "      <td>False</td>\n",
              "      <td>False</td>\n",
              "      <td>False</td>\n",
              "      <td>False</td>\n",
              "      <td>True</td>\n",
              "      <td>False</td>\n",
              "      <td>False</td>\n",
              "      <td>False</td>\n",
              "      <td>False</td>\n",
              "      <td>True</td>\n",
              "      <td>False</td>\n",
              "      <td>False</td>\n",
              "      <td>False</td>\n",
              "      <td>False</td>\n",
              "      <td>False</td>\n",
              "      <td>False</td>\n",
              "      <td>False</td>\n",
              "    </tr>\n",
              "  </tbody>\n",
              "</table>\n",
              "</div>\n",
              "      <button class=\"colab-df-convert\" onclick=\"convertToInteractive('df-2f31f88d-da25-445b-96c4-75b9fad48625')\"\n",
              "              title=\"Convert this dataframe to an interactive table.\"\n",
              "              style=\"display:none;\">\n",
              "        \n",
              "  <svg xmlns=\"http://www.w3.org/2000/svg\" height=\"24px\"viewBox=\"0 0 24 24\"\n",
              "       width=\"24px\">\n",
              "    <path d=\"M0 0h24v24H0V0z\" fill=\"none\"/>\n",
              "    <path d=\"M18.56 5.44l.94 2.06.94-2.06 2.06-.94-2.06-.94-.94-2.06-.94 2.06-2.06.94zm-11 1L8.5 8.5l.94-2.06 2.06-.94-2.06-.94L8.5 2.5l-.94 2.06-2.06.94zm10 10l.94 2.06.94-2.06 2.06-.94-2.06-.94-.94-2.06-.94 2.06-2.06.94z\"/><path d=\"M17.41 7.96l-1.37-1.37c-.4-.4-.92-.59-1.43-.59-.52 0-1.04.2-1.43.59L10.3 9.45l-7.72 7.72c-.78.78-.78 2.05 0 2.83L4 21.41c.39.39.9.59 1.41.59.51 0 1.02-.2 1.41-.59l7.78-7.78 2.81-2.81c.8-.78.8-2.07 0-2.86zM5.41 20L4 18.59l7.72-7.72 1.47 1.35L5.41 20z\"/>\n",
              "  </svg>\n",
              "      </button>\n",
              "      \n",
              "  <style>\n",
              "    .colab-df-container {\n",
              "      display:flex;\n",
              "      flex-wrap:wrap;\n",
              "      gap: 12px;\n",
              "    }\n",
              "\n",
              "    .colab-df-convert {\n",
              "      background-color: #E8F0FE;\n",
              "      border: none;\n",
              "      border-radius: 50%;\n",
              "      cursor: pointer;\n",
              "      display: none;\n",
              "      fill: #1967D2;\n",
              "      height: 32px;\n",
              "      padding: 0 0 0 0;\n",
              "      width: 32px;\n",
              "    }\n",
              "\n",
              "    .colab-df-convert:hover {\n",
              "      background-color: #E2EBFA;\n",
              "      box-shadow: 0px 1px 2px rgba(60, 64, 67, 0.3), 0px 1px 3px 1px rgba(60, 64, 67, 0.15);\n",
              "      fill: #174EA6;\n",
              "    }\n",
              "\n",
              "    [theme=dark] .colab-df-convert {\n",
              "      background-color: #3B4455;\n",
              "      fill: #D2E3FC;\n",
              "    }\n",
              "\n",
              "    [theme=dark] .colab-df-convert:hover {\n",
              "      background-color: #434B5C;\n",
              "      box-shadow: 0px 1px 3px 1px rgba(0, 0, 0, 0.15);\n",
              "      filter: drop-shadow(0px 1px 2px rgba(0, 0, 0, 0.3));\n",
              "      fill: #FFFFFF;\n",
              "    }\n",
              "  </style>\n",
              "\n",
              "      <script>\n",
              "        const buttonEl =\n",
              "          document.querySelector('#df-2f31f88d-da25-445b-96c4-75b9fad48625 button.colab-df-convert');\n",
              "        buttonEl.style.display =\n",
              "          google.colab.kernel.accessAllowed ? 'block' : 'none';\n",
              "\n",
              "        async function convertToInteractive(key) {\n",
              "          const element = document.querySelector('#df-2f31f88d-da25-445b-96c4-75b9fad48625');\n",
              "          const dataTable =\n",
              "            await google.colab.kernel.invokeFunction('convertToInteractive',\n",
              "                                                     [key], {});\n",
              "          if (!dataTable) return;\n",
              "\n",
              "          const docLinkHtml = 'Like what you see? Visit the ' +\n",
              "            '<a target=\"_blank\" href=https://colab.research.google.com/notebooks/data_table.ipynb>data table notebook</a>'\n",
              "            + ' to learn more about interactive tables.';\n",
              "          element.innerHTML = '';\n",
              "          dataTable['output_type'] = 'display_data';\n",
              "          await google.colab.output.renderOutput(dataTable, element);\n",
              "          const docLink = document.createElement('div');\n",
              "          docLink.innerHTML = docLinkHtml;\n",
              "          element.appendChild(docLink);\n",
              "        }\n",
              "      </script>\n",
              "    </div>\n",
              "  </div>\n",
              "  "
            ]
          },
          "metadata": {},
          "execution_count": 8
        }
      ]
    },
    {
      "cell_type": "code",
      "source": [
        "Identifying Frequent Itemsets, using the apriori function to "
      ],
      "metadata": {
        "id": "PpnGPwLXG5dg",
        "colab": {
          "base_uri": "https://localhost:8080/",
          "height": 131
        },
        "outputId": "4f29ade1-6e2e-4c76-f745-639f6f58cea0"
      },
      "execution_count": null,
      "outputs": [
        {
          "output_type": "error",
          "ename": "SyntaxError",
          "evalue": "ignored",
          "traceback": [
            "\u001b[0;36m  File \u001b[0;32m\"<ipython-input-9-c8644b1abef3>\"\u001b[0;36m, line \u001b[0;32m1\u001b[0m\n\u001b[0;31m    Identifying Frequent Itemsets, using the apriori function to\u001b[0m\n\u001b[0m                       ^\u001b[0m\n\u001b[0;31mSyntaxError\u001b[0m\u001b[0;31m:\u001b[0m invalid syntax\n"
          ]
        }
      ]
    },
    {
      "cell_type": "markdown",
      "source": [],
      "metadata": {
        "id": "yXN_oJrSHGGQ"
      }
    },
    {
      "cell_type": "code",
      "source": [
        "print('NUmber of Transactions:',len(transactions))"
      ],
      "metadata": {
        "colab": {
          "base_uri": "https://localhost:8080/"
        },
        "id": "xxW_l3C92_yE",
        "outputId": "7387c10d-bc14-481f-fe9d-88b4b8662e3c"
      },
      "execution_count": null,
      "outputs": [
        {
          "output_type": "stream",
          "name": "stdout",
          "text": [
            "NUmber of Transactions: 20\n"
          ]
        }
      ]
    },
    {
      "cell_type": "code",
      "source": [
        "print('Number of Unique Items:',len(set(sum(transactions,[]))))"
      ],
      "metadata": {
        "colab": {
          "base_uri": "https://localhost:8080/"
        },
        "id": "HxZZ9gy13d6U",
        "outputId": "e687546b-3eff-4fda-9ff3-26ee0ec09a2a"
      },
      "execution_count": null,
      "outputs": [
        {
          "output_type": "stream",
          "name": "stdout",
          "text": [
            "Number of Unique Items: 20\n"
          ]
        }
      ]
    },
    {
      "cell_type": "code",
      "source": [
        "from mlxtend.frequent_patterns import apriori"
      ],
      "metadata": {
        "id": "9vCGolFK3um2"
      },
      "execution_count": null,
      "outputs": []
    },
    {
      "cell_type": "code",
      "source": [
        "frequent_itemsets=apriori(df_itemsets,min_support=0.1, use_colnames=True)"
      ],
      "metadata": {
        "id": "eskQ9iK633Eb"
      },
      "execution_count": null,
      "outputs": []
    },
    {
      "cell_type": "code",
      "source": [
        "print(frequent_itemsets)"
      ],
      "metadata": {
        "colab": {
          "base_uri": "https://localhost:8080/"
        },
        "id": "y_TmHAC941ot",
        "outputId": "40d92992-e523-4a1c-e63d-8e2ca6ab08b6"
      },
      "execution_count": null,
      "outputs": [
        {
          "output_type": "stream",
          "name": "stdout",
          "text": [
            "    support                 itemsets\n",
            "0      0.10                  (apple)\n",
            "1      0.40                  (bread)\n",
            "2      0.20                 (butter)\n",
            "3      0.25                 (cheese)\n",
            "4      0.25                   (curd)\n",
            "5      0.10                   (eggs)\n",
            "6      0.15                   (milk)\n",
            "7      0.10                 (orange)\n",
            "8      0.10                  (pasta)\n",
            "9      0.30             (sour cream)\n",
            "10     0.20          (bread, butter)\n",
            "11     0.15          (bread, cheese)\n",
            "12     0.10            (bread, milk)\n",
            "13     0.10         (butter, cheese)\n",
            "14     0.10          (pasta, cheese)\n",
            "15     0.20       (sour cream, curd)\n",
            "16     0.10             (milk, eggs)\n",
            "17     0.10  (bread, butter, cheese)\n"
          ]
        }
      ]
    },
    {
      "cell_type": "code",
      "source": [
        "frequent_itemsets['length']=frequent_itemsets['itemsets'].apply(lambda itemset:len(itemset))"
      ],
      "metadata": {
        "id": "ERkwilyn5H3R"
      },
      "execution_count": null,
      "outputs": []
    },
    {
      "cell_type": "code",
      "source": [
        "print(frequent_itemsets[frequent_itemsets['length']>=2])"
      ],
      "metadata": {
        "colab": {
          "base_uri": "https://localhost:8080/"
        },
        "id": "__6anO288Dwx",
        "outputId": "51fef1d6-baa6-4b7b-de2b-0da62841086e"
      },
      "execution_count": null,
      "outputs": [
        {
          "output_type": "stream",
          "name": "stdout",
          "text": [
            "    support                 itemsets  length\n",
            "10     0.20          (bread, butter)       2\n",
            "11     0.15          (bread, cheese)       2\n",
            "12     0.10            (bread, milk)       2\n",
            "13     0.10         (butter, cheese)       2\n",
            "14     0.10          (pasta, cheese)       2\n",
            "15     0.20       (sour cream, curd)       2\n",
            "16     0.10             (milk, eggs)       2\n",
            "17     0.10  (bread, butter, cheese)       3\n"
          ]
        }
      ]
    },
    {
      "cell_type": "code",
      "source": [
        "from mlxtend.frequent_patterns import association_rules"
      ],
      "metadata": {
        "id": "_t3r9keP8ZQv"
      },
      "execution_count": null,
      "outputs": []
    },
    {
      "cell_type": "code",
      "source": [
        "rules=association_rules(frequent_itemsets, metric=\"confidence\", min_threshold=0.5)"
      ],
      "metadata": {
        "id": "FMDwU4ym8nNx"
      },
      "execution_count": null,
      "outputs": []
    },
    {
      "cell_type": "code",
      "source": [
        "print(rules.iloc[:,0:7])"
      ],
      "metadata": {
        "colab": {
          "base_uri": "https://localhost:8080/"
        },
        "id": "6zswpmgQ80yJ",
        "outputId": "6d2fba0a-068f-406e-f1be-1738ff6b2791"
      },
      "execution_count": null,
      "outputs": [
        {
          "output_type": "stream",
          "name": "stdout",
          "text": [
            "         antecedents      consequents  antecedent support  consequent support  \\\n",
            "0            (bread)         (butter)                0.40                0.20   \n",
            "1           (butter)          (bread)                0.20                0.40   \n",
            "2           (cheese)          (bread)                0.25                0.40   \n",
            "3             (milk)          (bread)                0.15                0.40   \n",
            "4           (butter)         (cheese)                0.20                0.25   \n",
            "5            (pasta)         (cheese)                0.10                0.25   \n",
            "6       (sour cream)           (curd)                0.30                0.25   \n",
            "7             (curd)     (sour cream)                0.25                0.30   \n",
            "8             (milk)           (eggs)                0.15                0.10   \n",
            "9             (eggs)           (milk)                0.10                0.15   \n",
            "10   (bread, butter)         (cheese)                0.20                0.25   \n",
            "11   (bread, cheese)         (butter)                0.15                0.20   \n",
            "12  (butter, cheese)          (bread)                0.10                0.40   \n",
            "13          (butter)  (bread, cheese)                0.20                0.15   \n",
            "\n",
            "    support  confidence      lift  \n",
            "0      0.20    0.500000  2.500000  \n",
            "1      0.20    1.000000  2.500000  \n",
            "2      0.15    0.600000  1.500000  \n",
            "3      0.10    0.666667  1.666667  \n",
            "4      0.10    0.500000  2.000000  \n",
            "5      0.10    1.000000  4.000000  \n",
            "6      0.20    0.666667  2.666667  \n",
            "7      0.20    0.800000  2.666667  \n",
            "8      0.10    0.666667  6.666667  \n",
            "9      0.10    1.000000  6.666667  \n",
            "10     0.10    0.500000  2.000000  \n",
            "11     0.10    0.666667  3.333333  \n",
            "12     0.10    1.000000  2.500000  \n",
            "13     0.10    0.500000  3.333333  \n"
          ]
        }
      ]
    },
    {
      "cell_type": "code",
      "source": [
        "rules_plot=pd.DataFrame()\n",
        "rules_plot['antecedents']=rules['antecedents'].apply(lambda x:','.join(list(x)))\n",
        "rules_plot['consequents']=rules['consequents'].apply(lambda x:','.join(list(x)))\n",
        "rules_plot['lift']=rules['lift'].apply(lambda x:round(x,2))"
      ],
      "metadata": {
        "id": "Uo_-ycet9JyH"
      },
      "execution_count": null,
      "outputs": []
    },
    {
      "cell_type": "code",
      "source": [
        "pivot=rules_plot.pivot(index='antecedents',columns='consequents', values='lift')\n",
        "print(pivot)"
      ],
      "metadata": {
        "colab": {
          "base_uri": "https://localhost:8080/"
        },
        "id": "oAhKwdvz-Cdk",
        "outputId": "2f8910a3-d03b-4661-f62a-860c2dd72920"
      },
      "execution_count": null,
      "outputs": [
        {
          "output_type": "stream",
          "name": "stdout",
          "text": [
            "consequents    bread  bread,cheese  butter  cheese  curd  eggs  milk  \\\n",
            "antecedents                                                            \n",
            "bread            NaN           NaN    2.50     NaN   NaN   NaN   NaN   \n",
            "bread,butter     NaN           NaN     NaN     2.0   NaN   NaN   NaN   \n",
            "bread,cheese     NaN           NaN    3.33     NaN   NaN   NaN   NaN   \n",
            "butter          2.50          3.33     NaN     2.0   NaN   NaN   NaN   \n",
            "butter,cheese   2.50           NaN     NaN     NaN   NaN   NaN   NaN   \n",
            "cheese          1.50           NaN     NaN     NaN   NaN   NaN   NaN   \n",
            "curd             NaN           NaN     NaN     NaN   NaN   NaN   NaN   \n",
            "eggs             NaN           NaN     NaN     NaN   NaN   NaN  6.67   \n",
            "milk            1.67           NaN     NaN     NaN   NaN  6.67   NaN   \n",
            "pasta            NaN           NaN     NaN     4.0   NaN   NaN   NaN   \n",
            "sour cream       NaN           NaN     NaN     NaN  2.67   NaN   NaN   \n",
            "\n",
            "consequents    sour cream  \n",
            "antecedents                \n",
            "bread                 NaN  \n",
            "bread,butter          NaN  \n",
            "bread,cheese          NaN  \n",
            "butter                NaN  \n",
            "butter,cheese         NaN  \n",
            "cheese                NaN  \n",
            "curd                 2.67  \n",
            "eggs                  NaN  \n",
            "milk                  NaN  \n",
            "pasta                 NaN  \n",
            "sour cream            NaN  \n"
          ]
        }
      ]
    },
    {
      "cell_type": "code",
      "source": [
        "antecedents=list(pivot.index.values)\n",
        "consequents=list(pivot.columns)\n",
        "import numpy as np\n",
        "pivot=pivot.to_numpy()"
      ],
      "metadata": {
        "id": "dTor-fhJ-TPC"
      },
      "execution_count": null,
      "outputs": []
    },
    {
      "cell_type": "code",
      "source": [
        "import matplotlib\n",
        "import matplotlib.pyplot as plt\n",
        "import numpy as np\n",
        "fig, ax= plt.subplots()\n",
        "im= ax.imshow(pivot, cmap='Blues')\n",
        "ax.set_xticks(np.arange(len(consequents)))\n",
        "ax.set_yticks(np.arange(len(antecedents)))\n",
        "ax.set_xticklabels(consequents)\n",
        "ax.set_yticklabels(antecedents)\n",
        "plt.setp(ax.get_xticklabels(),rotation=45,ha=\"right\",rotation_mode=\"anchor\")\n",
        "for i in range(len(antecedents)):\n",
        "  for j in range(len(consequents)):\n",
        "    if not np.isnan(pivot[i,j]):\n",
        "      text=ax.text(j,i,pivot[i,j],ha=\"center\",va=\"center\")\n",
        "ax.set_title(\"Lift metric for frequent itemsets\")\n",
        "fig.tight_layout()\n",
        "plt.show()"
      ],
      "metadata": {
        "colab": {
          "base_uri": "https://localhost:8080/",
          "height": 297
        },
        "id": "FOJZnxg9-qrC",
        "outputId": "95e7d5a7-37ab-4d71-9b11-cb214aa9e6c7"
      },
      "execution_count": null,
      "outputs": [
        {
          "output_type": "display_data",
          "data": {
            "text/plain": [
              "<Figure size 432x288 with 1 Axes>"
            ],
            "image/png": "[encoded data removed]"
          },
          "metadata": {
            "needs_background": "light"
          }
        }
      ]
    },
    {
      "cell_type": "markdown",
      "source": [],
      "metadata": {
        "id": "mLj6zcxC7Ax4"
      }
    },
    {
      "cell_type": "markdown",
      "source": [],
      "metadata": {
        "id": "Lh5yChXt7CR1"
      }
    }
  ]
}